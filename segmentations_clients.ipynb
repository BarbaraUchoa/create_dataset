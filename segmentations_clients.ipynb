{
 "cells": [
  {
   "cell_type": "code",
   "execution_count": 1,
   "metadata": {},
   "outputs": [],
   "source": [
    "# Import necessary libraries\n",
    "import pandas as pd\n",
    "import numpy as np\n",
    "\n",
    "# Seed for reproducibility\n",
    "np.random.seed(42)\n",
    "\n",
    "# Generate synthetic data for 100 customers\n",
    "customer_ids = range(1, 101)\n",
    "ages = np.random.randint(18, 70, size=100)  # Age range from 18 to 70\n",
    "annual_incomes = np.random.randint(30, 150, size=100)  # Annual income in thousands\n",
    "spending_scores = np.random.randint(1, 100, size=100)  # Spending score from 1 to 100\n",
    "\n",
    "# Create a DataFrame\n",
    "df = pd.DataFrame({\n",
    "    'CustomerID': customer_ids,\n",
    "    'Age': ages,\n",
    "    'AnnualIncome': annual_incomes,\n",
    "    'SpendingScore': spending_scores\n",
    "})\n"
   ]
  }
 ],
 "metadata": {
  "kernelspec": {
   "display_name": "Python 3",
   "language": "python",
   "name": "python3"
  },
  "language_info": {
   "codemirror_mode": {
    "name": "ipython",
    "version": 3
   },
   "file_extension": ".py",
   "mimetype": "text/x-python",
   "name": "python",
   "nbconvert_exporter": "python",
   "pygments_lexer": "ipython3",
   "version": "3.10.13"
  }
 },
 "nbformat": 4,
 "nbformat_minor": 2
}
